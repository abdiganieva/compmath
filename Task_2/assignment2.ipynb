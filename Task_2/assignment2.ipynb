{
 "cells":[
  {
   "cell_type":"markdown",
   "source":[
    "# Assignment 2: SVD decomposition with applications\n",
    "### Numerical methods, Fall 2022"
   ],
   "attachments":{
    
   },
   "metadata":{
    "datalore":{
     "node_id":"glQBU5ckRfKitrFnnoyWq4",
     "type":"MD",
     "hide_input_from_viewers":false,
     "hide_output_from_viewers":false,
     "report_properties":{
      
     }
    }
   }
  },
  {
   "cell_type":"code",
   "source":[
    "#imports\n",
    "import numpy as np\n",
    "from sklearn.utils.extmath import randomized_svd\n",
    "from scipy.sparse.linalg import svds\n",
    "import sklearn"
   ],
   "execution_count":2,
   "outputs":[
    
   ],
   "metadata":{
    "datalore":{
     "node_id":"f21W0qfapAjlLSdPMabM7C",
     "type":"CODE",
     "hide_input_from_viewers":true,
     "hide_output_from_viewers":true
    }
   }
  },
  {
   "cell_type":"markdown",
   "source":[
    "\n",
    "1. **(10)** In this exercise, we will explore three main algorithms available in scientific python distributions for computation of SVD: `numppy.linalg.svd`, `scipy.sparse.linalg.svds` and `sklearn.utils.extmath.randomized_svd`. To this end:\n",
    "   * Construct a random $n\\times n$ matrix $A$ (with `ii`d elemnts sampled from standard normal distribution); consider $n = 2000$\n",
    "   * Using these implementations, construct rank-2 approximations to $A$. You will thus obtain three rank-2 matrices $A_\\text{svd}$, $A_\\text{svds}$ and $A_\\text{rsvd}$. Measure the run-time of these three algorithms for the given task.\n",
    "   * Compute the error norms: $\\|A - A_\\text{svd}\\|_F$, $\\|A - A_\\text{svds}\\|_F$ and $\\|A - A_\\text{rsvd}\\|_F$. Explain the result."
   ],
   "attachments":{
    
   },
   "metadata":{
    "datalore":{
     "node_id":"QXqa0J9XZj3nAkx3dbp5oL",
     "type":"MD",
     "hide_input_from_viewers":true,
     "hide_output_from_viewers":true
    }
   }
  },
  {
   "cell_type":"code",
   "source":[
    "def choose_svd(svdnum, matrix, r=2):\n",
    "    if svdnum == 0:\n",
    "        u, s, vh = np.linalg.svd(matrix, full_matrices=False)\n",
    "        u = u[:, :r]\n",
    "        s = s[:r]\n",
    "        vh = vh[:r, :]\n",
    "        return u * s  @ vh\n",
    "    elif svdnum == 1:\n",
    "        u, s, vh = svds(matrix, k=2) \n",
    "        return u * s @ vh\n",
    "    elif svdnum  == 2:\n",
    "        u, s, vh = randomized_svd(A, n_components=2)\n",
    "        return u * s @ vh\n",
    "\n",
    "\n",
    "n = 2000\n",
    "A = np.random.normal(size=(n,n))\n",
    "\n",
    "\n",
    "Asvd = choose_svd(0, A)\n",
    "Asvds = choose_svd(1, A)\n",
    "Arsvd = choose_svd(2, A)"
   ],
   "execution_count":25,
   "outputs":[
    {
     "name":"stderr",
     "text":[
      "\/opt\/python\/envs\/default\/lib\/python3.8\/site-packages\/sklearn\/utils\/extmath.py:368: FutureWarning: If 'random_state' is not supplied, the current default is to use 0 as a fixed seed. This will change to  None in version 1.2 leading to non-deterministic results that better reflect nature of the randomized_svd solver. If you want to silence this warning, set 'random_state' to an integer seed or to None explicitly depending if you want your code to be deterministic or not.\n",
      "  warnings.warn(\n"
     ],
     "output_type":"stream"
    }
   ],
   "metadata":{
    "datalore":{
     "node_id":"zGjYDW2ZYx0TQRpcpFztTY",
     "type":"CODE",
     "hide_input_from_viewers":true,
     "hide_output_from_viewers":true
    }
   }
  },
  {
   "cell_type":"code",
   "source":[
    "print('numpy svd:')\n",
    "%timeit choose_svd(0, A)\n",
    "print('scipy svd:')\n",
    "%timeit choose_svd(1, A)\n",
    "print('sklearn svd:')\n",
    "%timeit choose_svd(2, A)"
   ],
   "execution_count":28,
   "outputs":[
    {
     "name":"stdout",
     "text":[
      "numpy svd:\n",
      "3.46 s ± 64.4 ms per loop (mean ± std. dev. of 7 runs, 1 loop each)\n",
      "scipy svd:\n",
      "1.04 s ± 87.3 ms per loop (mean ± std. dev. of 7 runs, 1 loop each)\n",
      "sklearn svd:\n",
      "285 ms ± 3.44 ms per loop (mean ± std. dev. of 7 runs, 1 loop each)\n"
     ],
     "output_type":"stream"
    },
    {
     "name":"stderr",
     "text":[
      "\/opt\/python\/envs\/default\/lib\/python3.8\/site-packages\/sklearn\/utils\/extmath.py:368: FutureWarning: If 'random_state' is not supplied, the current default is to use 0 as a fixed seed. This will change to  None in version 1.2 leading to non-deterministic results that better reflect nature of the randomized_svd solver. If you want to silence this warning, set 'random_state' to an integer seed or to None explicitly depending if you want your code to be deterministic or not.\n",
      "  warnings.warn(\n"
     ],
     "output_type":"stream"
    }
   ],
   "metadata":{
    "datalore":{
     "node_id":"B1NDtqMORDGYHCL8Z1YHKd",
     "type":"CODE",
     "hide_input_from_viewers":true,
     "hide_output_from_viewers":true
    }
   }
  },
  {
   "cell_type":"code",
   "source":[
    "print(f'fro norm: numpy = {np.linalg.norm(A - Asvd)}, scipy = {np.linalg.norm(A - Asvds)}, sklearn = {np.linalg.norm(A - Arsvd)}')"
   ],
   "execution_count":37,
   "outputs":[
    {
     "name":"stdout",
     "text":[
      "fro norm: numpy = 1996.9341027058747, scipy = 1996.9341027058747, sklearn = 1997.1554176891507\n"
     ],
     "output_type":"stream"
    }
   ],
   "metadata":{
    "datalore":{
     "node_id":"0PmdslUs8yCgGUIDObwq3W",
     "type":"CODE",
     "hide_input_from_viewers":true,
     "hide_output_from_viewers":true
    }
   }
  },
  {
   "cell_type":"markdown",
   "source":[
    "3. **(10)** Consider the matrix:\n",
    "   $$ \\left[\\begin{matrix}-2 & 11 \\\\ -10 & 5\\end{matrix}\\right] $$\n",
    "   * List the singular values, left singular vectors and right singular vectors of $A$. The SVD is not unique, so find the one that has the minimal number of minus signs in $U$ and $V$.\n",
    "   \n",
    "\n",
    "  \n",
    "   * Find the eigenvalues $\\lambda_1$, $\\lambda_2$ of $A$."
   ],
   "attachments":{
    
   },
   "metadata":{
    "datalore":{
     "node_id":"EvCOnQNxsr31rxKkq1rvTV",
     "type":"MD",
     "hide_input_from_viewers":true,
     "hide_output_from_viewers":true
    }
   }
  },
  {
   "cell_type":"code",
   "source":[
    "A = np.array([[-2, 11], [-10, 5]])\n",
    "print(np.linalg.eigvals(A))"
   ],
   "execution_count":37,
   "outputs":[
    {
     "name":"stdout",
     "text":[
      "[1.5+9.88685997j 1.5-9.88685997j]\n"
     ],
     "output_type":"stream"
    }
   ],
   "metadata":{
    "datalore":{
     "node_id":"LB5BRLUqOw3to2yC5HmkQO",
     "type":"CODE",
     "hide_input_from_viewers":true,
     "hide_output_from_viewers":true
    }
   }
  },
  {
   "cell_type":"markdown",
   "source":[
    "* Draw a labeled picture of the unit ball in $\\mathbb R^2$ and its image under $A$, together with the singular vectors with the coordinates of their vertices marked."
   ],
   "attachments":{
    
   },
   "metadata":{
    "datalore":{
     "node_id":"ElBgrEZ1nIGKjvvzMHZ4To",
     "type":"MD",
     "hide_input_from_viewers":true,
     "hide_output_from_viewers":true
    }
   }
  },
  {
   "cell_type":"code",
   "source":[
    
   ],
   "execution_count":null,
   "outputs":[
    
   ],
   "metadata":{
    "datalore":{
     "node_id":"RJqDftVbTXRUy4Lugq1qnq",
     "type":"CODE",
     "hide_input_from_viewers":true,
     "hide_output_from_viewers":true
    }
   }
  },
  {
   "cell_type":"markdown",
   "source":[
    "5. **(10)** In this exercise, you will explore application of SVD to dimensionality reduction. Let us start with loading the dataset:\n",
    "   ```python\n",
    "   from sklearn.dataesets import load_digits\n",
    "   digits = load_digits()\n",
    "   A = digits.data\n",
    "   y = digits.target\n",
    "   ```\n",
    "   so that rows of $A$ contain monochromatic images of digits (64 float values which should be reshaped into $8\\times 8$ images) and $y$ contains the digit labels.\n",
    "   * Inspect the dataset: plot examples of images, corresponding to several digits (say 0, 3, 7).\n",
    "   * Normalize the dataset $A$.\n",
    "   * Use SVD to project the dataset $A$ from 64 dimensions to 2 dimensions. Show the colored scatter plot, where colors encode the digits."
   ],
   "attachments":{
    
   },
   "metadata":{
    "datalore":{
     "node_id":"ocjgGHo3EXcCSWnWLsIg4C",
     "type":"MD",
     "hide_input_from_viewers":true,
     "hide_output_from_viewers":true
    }
   }
  },
  {
   "cell_type":"code",
   "source":[
    "from sklearn.datasets import load_digits\n",
    "digits = load_digits()\n",
    "A = digits.data\n",
    "y = digits.target"
   ],
   "execution_count":65,
   "outputs":[
    
   ],
   "metadata":{
    "datalore":{
     "node_id":"QZFzmGUd6hohJnHD1ooeD0",
     "type":"CODE",
     "hide_input_from_viewers":true,
     "hide_output_from_viewers":true
    }
   }
  },
  {
   "cell_type":"code",
   "source":[
    "import matplotlib.pyplot as plt\n",
    "digit1 = A[3]\n",
    "digit1 = np.reshape(digit1, (8, 8))\n",
    "digit2 = A[0]\n",
    "digit2 = np.reshape(digit2, (8, 8))\n",
    "digit3 = A[7]\n",
    "digit3 = np.reshape(digit3, (8, 8))\n",
    "plt.imshow(digit1, cmap='Greys_r')\n",
    "#цифра 3"
   ],
   "execution_count":77,
   "outputs":[
    {
     "data":{
      "text\/plain":[
       "<matplotlib.image.AxesImage at 0x7f4294f28460>"
      ]
     },
     "metadata":{
      
     },
     "output_type":"display_data"
    },
    {
     "data":{
      "image\/png":"[encoded data removed]"
     },
     "metadata":{
      "image\/png":{
       
      }
     },
     "output_type":"display_data"
    }
   ],
   "metadata":{
    "datalore":{
     "node_id":"VtVfN1uCh6sOvHWs409OPn",
     "type":"CODE",
     "hide_input_from_viewers":true,
     "hide_output_from_viewers":true
    }
   }
  },
  {
   "cell_type":"code",
   "source":[
    "plt.imshow(digit2, cmap='Greys_r')\n",
    "#цифра 0"
   ],
   "execution_count":76,
   "outputs":[
    {
     "data":{
      "text\/plain":[
       "<matplotlib.image.AxesImage at 0x7f4294fb4250>"
      ]
     },
     "metadata":{
      
     },
     "output_type":"display_data"
    },
    {
     "data":{
      "image\/png":"[encoded data removed]"
     },
     "metadata":{
      "image\/png":{
       
      }
     },
     "output_type":"display_data"
    }
   ],
   "metadata":{
    "datalore":{
     "node_id":"Tg5j3a5zEZdvWFpf826IcG",
     "type":"CODE",
     "hide_input_from_viewers":true,
     "hide_output_from_viewers":true
    }
   }
  },
  {
   "cell_type":"code",
   "source":[
    "plt.imshow(digit3, cmap='Greys_r')\n",
    "#цифра 7"
   ],
   "execution_count":78,
   "outputs":[
    {
     "data":{
      "text\/plain":[
       "<matplotlib.image.AxesImage at 0x7f4294e983d0>"
      ]
     },
     "metadata":{
      
     },
     "output_type":"display_data"
    },
    {
     "data":{
      "image\/png":"[encoded data removed]"
     },
     "metadata":{
      "image\/png":{
       
      }
     },
     "output_type":"display_data"
    }
   ],
   "metadata":{
    "datalore":{
     "node_id":"R9u7c7g0Ez1HHDeUZkVhjc",
     "type":"CODE",
     "hide_input_from_viewers":true,
     "hide_output_from_viewers":true
    }
   }
  },
  {
   "cell_type":"code",
   "source":[
    "#normalize features\n",
    "A_norm = sklearn.preprocessing.scale(A, axis=0)\n",
    "\n",
    "#PCA: A to U * Sigma\n",
    "#I'll use sklearn svd since it's faster\n",
    "u,s, _ = randomized_svd(A_norm, n_components=2)\n",
    "A_norm_2 = u * s\n",
    "\n",
    "plot = plt.scatter(A_norm_2[:, 0], A_norm_2[:, 1], c = y)\n",
    "plt.legend(*plot.legend_elements())"
   ],
   "execution_count":93,
   "outputs":[
    {
     "name":"stderr",
     "text":[
      "\/opt\/python\/envs\/default\/lib\/python3.8\/site-packages\/sklearn\/utils\/extmath.py:368: FutureWarning: If 'random_state' is not supplied, the current default is to use 0 as a fixed seed. This will change to  None in version 1.2 leading to non-deterministic results that better reflect nature of the randomized_svd solver. If you want to silence this warning, set 'random_state' to an integer seed or to None explicitly depending if you want your code to be deterministic or not.\n",
      "  warnings.warn(\n"
     ],
     "output_type":"stream"
    },
    {
     "data":{
      "text\/plain":[
       "<matplotlib.legend.Legend at 0x7f4294969640>"
      ]
     },
     "metadata":{
      
     },
     "output_type":"display_data"
    },
    {
     "data":{
      "image\/png":"[encoded data removed]"
     },
     "metadata":{
      "image\/png":{
       
      }
     },
     "output_type":"display_data"
    }
   ],
   "metadata":{
    "datalore":{
     "node_id":"BnYexpoBZr7FWWpjDjuETh",
     "type":"CODE",
     "hide_input_from_viewers":true,
     "hide_output_from_viewers":true
    }
   }
  }
 ],
 "metadata":{
  "kernelspec":{
   "display_name":"Python",
   "language":"python",
   "name":"python"
  },
  "datalore":{
   "version":1,
   "computation_mode":"JUPYTER",
   "package_manager":"pip",
   "base_environment":"default",
   "packages":[
    
   ]
  }
 },
 "nbformat":4,
 "nbformat_minor":4
}